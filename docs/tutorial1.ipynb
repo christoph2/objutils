{
 "cells": [
  {
   "cell_type": "markdown",
   "metadata": {
    "pycharm": {
     "name": "#%% md\n"
    }
   },
   "source": [
    "First import objutils library."
   ]
  },
  {
   "cell_type": "code",
   "execution_count": 8,
   "metadata": {
    "pycharm": {
     "name": "#%%\n"
    }
   },
   "outputs": [],
   "source": [
    "import objutils"
   ]
  },
  {
   "cell_type": "code",
   "execution_count": 7,
   "metadata": {
    "pycharm": {
     "name": "#%%\n"
    }
   },
   "outputs": [
    {
     "name": "stdout",
     "output_type": "stream",
     "text": [
      "Section(address = 0X00000100, length = 14, data = b'Hello world!!!')\n"
     ]
    }
   ],
   "source": [
    "img = objutils.Image([objutils.Section(0x1000, \"Hello world!!!\")])\n",
    "print(img)"
   ]
  },
  {
   "cell_type": "code",
   "execution_count": 16,
   "metadata": {
    "pycharm": {
     "name": "#%%\n"
    }
   },
   "outputs": [],
   "source": [
    "objutils.dump(\"ihex\", open(\"myHexFile.hex\", \"wb\"), img)"
   ]
  },
  {
   "cell_type": "code",
   "execution_count": 19,
   "metadata": {},
   "outputs": [
    {
     "name": "stdout",
     "output_type": "stream",
     "text": [
      "Section(address = 0X00000100, length = 14, data = b'Hello world!!!')\n"
     ]
    }
   ],
   "source": [
    "img = objutils.load(\"ihex\", \"myHexFile.hex\")\n",
    "print(img)"
   ]
  },
  {
   "cell_type": "code",
   "execution_count": 21,
   "metadata": {},
   "outputs": [
    {
     "name": "stdout",
     "output_type": "stream",
     "text": [
      "\n",
      "Section #0000\n",
      "-------------\n",
      "00000100  48 65 6c 6c 6f 20 77 6f 72 6c 64 21 21 21        |Hello world!!!  |\n",
      "---------------\n",
      "       14 bytes\n",
      "---------------\n"
     ]
    }
   ],
   "source": [
    "img.hexdump()"
   ]
  },
  {
   "cell_type": "code",
   "execution_count": 22,
   "metadata": {},
   "outputs": [],
   "source": [
    "from objutils import Image, Section, dump, dumps, load, loads"
   ]
  },
  {
   "cell_type": "code",
   "execution_count": 23,
   "metadata": {},
   "outputs": [],
   "source": [
    "sec0 = Section(start_address = 0x1000, data = \"Hello HEX world!\")"
   ]
  },
  {
   "cell_type": "code",
   "execution_count": 24,
   "metadata": {},
   "outputs": [
    {
     "name": "stdout",
     "output_type": "stream",
     "text": [
      "00001000  48 65 6c 6c 6f 20 48 45 58 20 77 6f 72 6c 64 21  |Hello HEX world!|\n",
      "---------------\n",
      "       16 bytes\n",
      "---------------\n"
     ]
    }
   ],
   "source": [
    "sec0.hexdump()"
   ]
  },
  {
   "cell_type": "code",
   "execution_count": 25,
   "metadata": {},
   "outputs": [
    {
     "name": "stdout",
     "output_type": "stream",
     "text": [
      "00002000  01 02 03 04 05 06 07 08 09 0a 0b 0c 0d 0e 0f 10  |................|\n",
      "---------------\n",
      "       16 bytes\n",
      "---------------\n"
     ]
    }
   ],
   "source": [
    "sec1 = Section(0x2000, range(1, 17))\n",
    "sec1.hexdump()"
   ]
  },
  {
   "cell_type": "code",
   "execution_count": 26,
   "metadata": {},
   "outputs": [
    {
     "name": "stdout",
     "output_type": "stream",
     "text": [
      "Section(address = 0X00001000, length = 16, data = b'Hello HEX world!')\n",
      "Section(address = 0X00002000, length = 16, data = b'\\x01\\x02\\x03\\x04\\x05\\x06\\x07\\x08\\t\\n\\x0b\\x0c\\r\\x0e\\x0f\\x10')\n"
     ]
    }
   ],
   "source": [
    "img0 = Image([sec0, sec1])\n",
    "print(img0)"
   ]
  },
  {
   "cell_type": "code",
   "execution_count": 27,
   "metadata": {},
   "outputs": [],
   "source": [
    "dump(\"srec\", \"example0.srec\", img0)"
   ]
  },
  {
   "cell_type": "code",
   "execution_count": 28,
   "metadata": {},
   "outputs": [
    {
     "name": "stdout",
     "output_type": "stream",
     "text": [
      "S113100048656C6C6F2048455820776F726C64217A\n",
      "S11320000102030405060708090A0B0C0D0E0F1044\n"
     ]
    }
   ],
   "source": [
    "!cat example0.srec"
   ]
  },
  {
   "cell_type": "code",
   "execution_count": 29,
   "metadata": {},
   "outputs": [
    {
     "name": "stdout",
     "output_type": "stream",
     "text": [
      "Section(address = 0X00001000, length = 16, data = b'Hello HEX world!')\n",
      "Section(address = 0X00002000, length = 16, data = b'\\x01\\x02\\x03\\x04\\x05\\x06\\x07\\x08\\t\\n\\x0b\\x0c\\r\\x0e\\x0f\\x10')\n"
     ]
    }
   ],
   "source": [
    "img1 = load(\"srec\", \"example0.srec\")\n",
    "print(img1)"
   ]
  },
  {
   "cell_type": "code",
   "execution_count": 30,
   "metadata": {},
   "outputs": [],
   "source": [
    "img1 = load(\"srec\", \"example0.srec\")\n",
    "dump(\"ihex\", \"example0.hex\", img1)"
   ]
  },
  {
   "cell_type": "code",
   "execution_count": 31,
   "metadata": {},
   "outputs": [
    {
     "name": "stdout",
     "output_type": "stream",
     "text": [
      "Section(address = 0X00000100, length = 16, data = b'\\x01\\x02\\x03\\x04\\x05\\x06\\x07\\x08\\t\\n\\x0b\\x0c\\r\\x0e\\x0f\\x10')\n",
      "\n",
      "Section #0000\n",
      "-------------\n",
      "00000100  01 02 03 04 05 06 07 08 09 0a 0b 0c 0d 0e 0f 10  |................|\n",
      "---------------\n",
      "       16 bytes\n",
      "---------------\n"
     ]
    }
   ],
   "source": [
    "sec0 = Section(0x100, range(1, 9))\n",
    "sec1 = Section(0x108, range(9, 17))\n",
    "img0 = Image([sec0, sec1])\n",
    "print(img0)\n",
    "img0.hexdump()"
   ]
  },
  {
   "cell_type": "code",
   "execution_count": 32,
   "metadata": {},
   "outputs": [
    {
     "name": "stdout",
     "output_type": "stream",
     "text": [
      "Section(address = 0X00000100, length = 8, data = b'\\x01\\x02\\x03\\x04\\x05\\x06\\x07\\x08')\n",
      "Section(address = 0X00000108, length = 8, data = b'\\t\\n\\x0b\\x0c\\r\\x0e\\x0f\\x10')\n"
     ]
    }
   ],
   "source": [
    "sec0 = Section(0x100, range(1, 9))\n",
    "sec1 = Section(0x108, range(9, 17))\n",
    "img0 = Image([sec0, sec1], join = False)\n",
    "print(img0)\n"
   ]
  },
  {
   "cell_type": "code",
   "execution_count": null,
   "outputs": [],
   "source": [],
   "metadata": {
    "collapsed": false,
    "pycharm": {
     "name": "#%%\n"
    }
   }
  },
  {
   "cell_type": "code",
   "execution_count": null,
   "outputs": [],
   "source": [],
   "metadata": {
    "collapsed": false,
    "pycharm": {
     "name": "#%%\n"
    }
   }
  },
  {
   "cell_type": "code",
   "execution_count": null,
   "outputs": [],
   "source": [],
   "metadata": {
    "collapsed": false,
    "pycharm": {
     "name": "#%%\n"
    }
   }
  },
  {
   "cell_type": "code",
   "execution_count": null,
   "outputs": [],
   "source": [],
   "metadata": {
    "collapsed": false,
    "pycharm": {
     "name": "#%%\n"
    }
   }
  },
  {
   "cell_type": "code",
   "execution_count": null,
   "outputs": [],
   "source": [],
   "metadata": {
    "collapsed": false,
    "pycharm": {
     "name": "#%%\n"
    }
   }
  },
  {
   "cell_type": "code",
   "execution_count": null,
   "outputs": [],
   "source": [],
   "metadata": {
    "collapsed": false,
    "pycharm": {
     "name": "#%%\n"
    }
   }
  },
  {
   "cell_type": "code",
   "execution_count": null,
   "outputs": [],
   "source": [],
   "metadata": {
    "collapsed": false,
    "pycharm": {
     "name": "#%%\n"
    }
   }
  },
  {
   "cell_type": "code",
   "execution_count": null,
   "metadata": {},
   "outputs": [],
   "source": []
  }
 ],
 "metadata": {
  "kernelspec": {
   "display_name": "Python 3 (ipykernel)",
   "language": "python",
   "name": "python3"
  },
  "language_info": {
   "codemirror_mode": {
    "name": "ipython",
    "version": 3
   },
   "file_extension": ".py",
   "mimetype": "text/x-python",
   "name": "python",
   "nbconvert_exporter": "python",
   "pygments_lexer": "ipython3",
   "version": "3.10.4"
  }
 },
 "nbformat": 4,
 "nbformat_minor": 1
}